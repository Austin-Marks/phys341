{
 "cells": [
  {
   "cell_type": "code",
   "execution_count": 1,
   "metadata": {},
   "outputs": [
    {
     "name": "stdout",
     "output_type": "stream",
     "text": [
      "=== Python version ===\n",
      "3.6.8 (default, Aug  7 2019, 17:28:10) \n",
      "[GCC 4.8.5 20150623 (Red Hat 4.8.5-39)]\n",
      "\n",
      "- Numpy version: 1.19.5\n",
      "- Scipy version: 1.5.1\n",
      "- Pandas version: 1.0.5\n"
     ]
    }
   ],
   "source": [
    "import sys\n",
    "print(f\"=== Python version ===\\n{sys.version}\\n\")\n",
    "\n",
    "import numpy as np\n",
    "import scipy as sp\n",
    "import scipy.sparse\n",
    "import pandas as pd\n",
    "\n",
    "print(f\"- Numpy version: {np.__version__}\")\n",
    "print(f\"- Scipy version: {sp.__version__}\")\n",
    "print(f\"- Pandas version: {pd.__version__}\")"
   ]
  },
  {
   "cell_type": "code",
   "execution_count": 2,
   "metadata": {},
   "outputs": [],
   "source": [
    "import matplotlib.pyplot as plt\n",
    "%matplotlib inline\n",
    "\n",
    "from nb11utils import get_data_path"
   ]
  },
  {
   "cell_type": "code",
   "execution_count": 3,
   "metadata": {},
   "outputs": [
    {
     "name": "stdout",
     "output_type": "stream",
     "text": [
      "          id  thickness  size_unif  shape_unif  adhesion  cell_size nuclei  \\\n",
      "23   1057013          8          4           5         1          2      ?   \n",
      "40   1096800          6          6           6         9          6      ?   \n",
      "139  1183246          1          1           1         1          1      ?   \n",
      "145  1184840          1          1           3         1          2      ?   \n",
      "158  1193683          1          1           2         1          3      ?   \n",
      "164  1197510          5          1           1         1          2      ?   \n",
      "235  1241232          3          1           4         1          2      ?   \n",
      "249   169356          3          1           1         1          2      ?   \n",
      "275   432809          3          1           3         1          2      ?   \n",
      "292   563649          8          8           8         1          2      ?   \n",
      "294   606140          1          1           1         1          2      ?   \n",
      "297    61634          5          4           3         1          2      ?   \n",
      "315   704168          4          6           5         6          7      ?   \n",
      "321   733639          3          1           1         1          2      ?   \n",
      "411  1238464          1          1           1         1          1      ?   \n",
      "617  1057067          1          1           1         1          1      ?   \n",
      "\n",
      "     chromatin  nucleoli  mitoses  class  \n",
      "23           7         3        1      4  \n",
      "40           7         8        1      2  \n",
      "139          2         1        1      2  \n",
      "145          2         1        1      2  \n",
      "158          1         1        1      2  \n",
      "164          3         1        1      2  \n",
      "235          3         1        1      2  \n",
      "249          3         1        1      2  \n",
      "275          2         1        1      2  \n",
      "292          6        10        1      4  \n",
      "294          2         1        1      2  \n",
      "297          2         3        1      2  \n",
      "315          4         9        1      2  \n",
      "321          3         1        1      2  \n",
      "411          2         1        1      2  \n",
      "617          1         1        1      2  \n",
      "<class 'pandas.core.frame.DataFrame'>\n",
      "RangeIndex: 699 entries, 0 to 698\n",
      "Data columns (total 11 columns):\n",
      " #   Column      Non-Null Count  Dtype \n",
      "---  ------      --------------  ----- \n",
      " 0   id          699 non-null    int64 \n",
      " 1   thickness   699 non-null    int64 \n",
      " 2   size_unif   699 non-null    int64 \n",
      " 3   shape_unif  699 non-null    int64 \n",
      " 4   adhesion    699 non-null    int64 \n",
      " 5   cell_size   699 non-null    int64 \n",
      " 6   nuclei      699 non-null    object\n",
      " 7   chromatin   699 non-null    int64 \n",
      " 8   nucleoli    699 non-null    int64 \n",
      " 9   mitoses     699 non-null    int64 \n",
      " 10  class       699 non-null    int64 \n",
      "dtypes: int64(10), object(1)\n",
      "memory usage: 60.2+ KB\n"
     ]
    }
   ],
   "source": [
    "df = pd.read_csv(get_data_path('breast-cancer-wisconsin.data'),\n",
    "                 header=None,names=['id', 'thickness','size_unif','shape_unif','adhesion',\n",
    "                                    'cell_size','nuclei','chromatin','nucleoli',\n",
    "                                    'mitoses','class'])\n",
    "\n",
    "# Make some copies of the original dataframe, for later use\n",
    "df_orig = df.copy()\n",
    "df_orig2 = df.copy()\n",
    "\n",
    "print(df[df['nuclei'] == '?'])\n",
    "df.info()\n"
   ]
  },
  {
   "cell_type": "code",
   "execution_count": 4,
   "metadata": {},
   "outputs": [
    {
     "name": "stdout",
     "output_type": "stream",
     "text": [
      "<class 'pandas.core.frame.DataFrame'>\n",
      "Int64Index: 683 entries, 0 to 698\n",
      "Data columns (total 11 columns):\n",
      " #   Column      Non-Null Count  Dtype\n",
      "---  ------      --------------  -----\n",
      " 0   id          683 non-null    int64\n",
      " 1   thickness   683 non-null    int64\n",
      " 2   size_unif   683 non-null    int64\n",
      " 3   shape_unif  683 non-null    int64\n",
      " 4   adhesion    683 non-null    int64\n",
      " 5   cell_size   683 non-null    int64\n",
      " 6   nuclei      683 non-null    int64\n",
      " 7   chromatin   683 non-null    int64\n",
      " 8   nucleoli    683 non-null    int64\n",
      " 9   mitoses     683 non-null    int64\n",
      " 10  class       683 non-null    int64\n",
      "dtypes: int64(11)\n",
      "memory usage: 64.0 KB\n"
     ]
    },
    {
     "name": "stderr",
     "output_type": "stream",
     "text": [
      "/usr/lib/python3.6/site-packages/ipykernel_launcher.py:3: SettingWithCopyWarning: \n",
      "A value is trying to be set on a copy of a slice from a DataFrame.\n",
      "Try using .loc[row_indexer,col_indexer] = value instead\n",
      "\n",
      "See the caveats in the documentation: https://pandas.pydata.org/pandas-docs/stable/user_guide/indexing.html#returning-a-view-versus-a-copy\n",
      "  This is separate from the ipykernel package so we can avoid doing imports until\n"
     ]
    }
   ],
   "source": [
    "# First attempt ... drop the rows that contain missing data\n",
    "df_drop_rows = df[df['nuclei'] != '?']\n",
    "df_drop_rows['nuclei'] = pd.to_numeric(df_drop_rows['nuclei'])\n",
    "df_drop_rows.info()"
   ]
  },
  {
   "cell_type": "code",
   "execution_count": 5,
   "metadata": {},
   "outputs": [],
   "source": [
    "# Now, perform a SVM fit to this data (with missing data rows removed)\n",
    "#\n",
    "# We will use all other columns to predict the 'class' column"
   ]
  },
  {
   "cell_type": "code",
   "execution_count": 6,
   "metadata": {},
   "outputs": [
    {
     "name": "stdout",
     "output_type": "stream",
     "text": [
      "[ 0  0  0  0  0 -2  0  0 -2  0  0  0  0  0  0  0  0  0  0  0  0  0  0  0\n",
      " -2  0  0 -2 -2 -2 -2  0  0 -2  0  0  0  0  0  0 -2 -2  0  0  0 -2  0 -2\n",
      "  0 -2 -2 -2  0 -2  0  0  0  0  0  0  0  0 -2 -2 -2  0  0 -2  0 -2 -2 -2\n",
      "  0  0  0  0  0  0  0  0  0  0  0  0 -2  0  0  0  0  0  0 -2  0  0 -2  0\n",
      "  0  0  0  0  0  0  0  0  0  0 -2  0  0  0  0  0  0  0  0  0 -2  0  0  0\n",
      "  0  0  0  0  0  0 -2 -2 -2  0  0  0  0  0  0  0  0  0 -2 -2  0  0  0  0\n",
      "  0  0  0  0  0 -2  0  0  0  0 -2 -2 -2]\n",
      "\n",
      "correct = 76.4 percent\n"
     ]
    }
   ],
   "source": [
    "from sklearn import svm\n",
    "\n",
    "split = 525\n",
    "\n",
    "y = df_drop_rows['class'].to_numpy()\n",
    "X = df_drop_rows[['id', 'thickness','size_unif','shape_unif','adhesion','cell_size','nuclei','chromatin','nucleoli','mitoses']].to_numpy()\n",
    "\n",
    "y_train = y[0:split]\n",
    "y_test = y[split+1:]\n",
    "\n",
    "X_train = X[0:split]\n",
    "X_test = X[split+1:]\n",
    "\n",
    "clf = svm.SVC(gamma='auto')\n",
    "clf.fit(X_train, y_train)\n",
    "\n",
    "ypred = clf.predict(X_test)\n",
    "print(ypred-y_test)\n",
    "diff = ypred-y_test\n",
    "\n",
    "sum = 0\n",
    "den = 0\n",
    "\n",
    "for elem in diff:\n",
    "    if elem==0:\n",
    "        sum += 1\n",
    "    den +=1\n",
    "    \n",
    "print()\n",
    "print (\"correct = %0.1f percent\"  % (100.0*sum/den))"
   ]
  },
  {
   "cell_type": "code",
   "execution_count": 7,
   "metadata": {},
   "outputs": [
    {
     "name": "stdout",
     "output_type": "stream",
     "text": [
      "[ 0  0  0  0 -2  0  0  0  0  0  0  0  0  0  0  0  0  0  0  0 -2  0  0 -2\n",
      "  0  0  0  0  0  0  0  0  0  0  0  0  0  0  0 -2  0  0 -2 -2 -2 -2  0  0\n",
      " -2  0  0  0  0  0  0 -2 -2  0  0  0 -2  0 -2  0 -2 -2 -2  0 -2  0  0  0\n",
      "  0  0  0  0  0 -2 -2 -2  0  0 -2  0 -2 -2 -2  0  0  0  0  0  0  0  0  0\n",
      "  0  0  0  0 -2  0  0  0  0  0  0 -2  0  0 -2  0  0  0  0  0  0  0  0  0\n",
      "  0  0 -2  0  0  0  0  0  0  0  0  0 -2  0  0  0  0  0  0  0  0  0 -2 -2\n",
      " -2  0  0  0  0  0  0  0  0  0 -2 -2  0  0  0  0  0  0  0  0  0 -2  0  0\n",
      "  0  0 -2 -2 -2]\n",
      "\n",
      "correct = 78.0 percent\n"
     ]
    }
   ],
   "source": [
    "# Second attempt ... ignore the 'nuclei column', but keep all of the original rows\n",
    "#\n",
    "# Taking this approach appears to slightly improve things (76.4% -> 78.0%)\n",
    "\n",
    "from sklearn import svm\n",
    "\n",
    "split = 525\n",
    "\n",
    "y = df['class'].to_numpy()\n",
    "X = df[['id', 'thickness','size_unif','shape_unif','adhesion','cell_size','chromatin','nucleoli','mitoses']].to_numpy()\n",
    "\n",
    "y_train = y[0:split]\n",
    "y_test = y[split+1:]\n",
    "\n",
    "X_train = X[0:split]\n",
    "X_test = X[split+1:]\n",
    "\n",
    "clf = svm.SVC(gamma='auto')\n",
    "clf.fit(X_train, y_train)\n",
    "\n",
    "ypred = clf.predict(X_test)\n",
    "print(ypred-y_test)\n",
    "diff = ypred-y_test\n",
    "\n",
    "sum = 0\n",
    "den = 0\n",
    "\n",
    "for elem in diff:\n",
    "    if elem==0:\n",
    "        sum += 1\n",
    "    den +=1\n",
    "    \n",
    "print()\n",
    "print (\"correct = %0.1f percent\"  % (100.0*sum/den))"
   ]
  },
  {
   "cell_type": "code",
   "execution_count": 8,
   "metadata": {},
   "outputs": [
    {
     "data": {
      "text/plain": [
       "<matplotlib.axes._subplots.AxesSubplot at 0x7fbd928962e8>"
      ]
     },
     "execution_count": 8,
     "metadata": {},
     "output_type": "execute_result"
    },
    {
     "data": {
      "image/png": "[encoded data removed]",
      "text/plain": [
       "<Figure size 432x288 with 1 Axes>"
      ]
     },
     "metadata": {
      "needs_background": "light"
     },
     "output_type": "display_data"
    }
   ],
   "source": [
    "# The above two approaches serve as a sort of \"baseline\" for additional attempts.  In all that follows, we\n",
    "# will try to replace the missing data with some sort of decent set of values for the nuclei column.\n",
    "\n",
    "# Third attempt:  replace the missing nuclei data with either the mode or the mean of the remainder of the\n",
    "# data in that column.\n",
    "\n",
    "import seaborn as sns\n",
    "#\n",
    "# Box plot\n",
    "#\n",
    "sns.boxplot(df_drop_rows['nuclei'])\n"
   ]
  },
  {
   "cell_type": "code",
   "execution_count": 9,
   "metadata": {},
   "outputs": [
    {
     "data": {
      "text/plain": [
       "<matplotlib.axes._subplots.AxesSubplot at 0x7fbd8a7cbc88>"
      ]
     },
     "execution_count": 9,
     "metadata": {},
     "output_type": "execute_result"
    },
    {
     "data": {
      "image/png": "[encoded data removed]",
      "text/plain": [
       "<Figure size 432x288 with 1 Axes>"
      ]
     },
     "metadata": {
      "needs_background": "light"
     },
     "output_type": "display_data"
    }
   ],
   "source": [
    "#\n",
    "# Distribution plot\n",
    "#\n",
    "sns.distplot(df_drop_rows['nuclei'])"
   ]
  },
  {
   "cell_type": "code",
   "execution_count": 10,
   "metadata": {},
   "outputs": [
    {
     "name": "stdout",
     "output_type": "stream",
     "text": [
      "          id  thickness  size_unif  shape_unif  adhesion  cell_size nuclei  \\\n",
      "23   1057013          8          4           5         1          2      ?   \n",
      "40   1096800          6          6           6         9          6      ?   \n",
      "139  1183246          1          1           1         1          1      ?   \n",
      "145  1184840          1          1           3         1          2      ?   \n",
      "158  1193683          1          1           2         1          3      ?   \n",
      "164  1197510          5          1           1         1          2      ?   \n",
      "235  1241232          3          1           4         1          2      ?   \n",
      "249   169356          3          1           1         1          2      ?   \n",
      "275   432809          3          1           3         1          2      ?   \n",
      "292   563649          8          8           8         1          2      ?   \n",
      "294   606140          1          1           1         1          2      ?   \n",
      "297    61634          5          4           3         1          2      ?   \n",
      "315   704168          4          6           5         6          7      ?   \n",
      "321   733639          3          1           1         1          2      ?   \n",
      "411  1238464          1          1           1         1          1      ?   \n",
      "617  1057067          1          1           1         1          1      ?   \n",
      "\n",
      "     chromatin  nucleoli  mitoses  class  \n",
      "23           7         3        1      4  \n",
      "40           7         8        1      2  \n",
      "139          2         1        1      2  \n",
      "145          2         1        1      2  \n",
      "158          1         1        1      2  \n",
      "164          3         1        1      2  \n",
      "235          3         1        1      2  \n",
      "249          3         1        1      2  \n",
      "275          2         1        1      2  \n",
      "292          6        10        1      4  \n",
      "294          2         1        1      2  \n",
      "297          2         3        1      2  \n",
      "315          4         9        1      2  \n",
      "321          3         1        1      2  \n",
      "411          2         1        1      2  \n",
      "617          1         1        1      2  \n",
      "699\n",
      "Mode =  1\n",
      "Empty DataFrame\n",
      "Columns: [id, thickness, size_unif, shape_unif, adhesion, cell_size, nuclei, chromatin, nucleoli, mitoses, class]\n",
      "Index: []\n",
      "699\n"
     ]
    },
    {
     "name": "stderr",
     "output_type": "stream",
     "text": [
      "/usr/local/lib64/python3.6/site-packages/pandas/core/ops/array_ops.py:253: FutureWarning: elementwise comparison failed; returning scalar instead, but in the future will perform elementwise comparison\n",
      "  res_values = method(rvalues)\n"
     ]
    }
   ],
   "source": [
    "# It appears, due to the very non-normal distribution of the nuclei data, that replacing with the mode\n",
    "# makes the most sense.  But, I have included the possiblity here to choose both options.  choice=1 will\n",
    "# replace with the mode, and choice=2 will replace with the mean.\n",
    "\n",
    "print(df_orig[df_orig['nuclei'] == '?'])\n",
    "print (len(df_orig))\n",
    "\n",
    "choice = 1\n",
    "\n",
    "if choice == 1:\n",
    "    mode = df_drop_rows['nuclei'].mode()[0]\n",
    "    print (\"Mode = \",mode)\n",
    "\n",
    "    df_orig['nuclei'].replace({'?': int(mode)}, inplace=True)\n",
    "    df_orig['nuclei'] = pd.to_numeric(df_orig['nuclei'])\n",
    "\n",
    "if choice == 2:\n",
    "    mean = df_drop_rows['nuclei'].mean()\n",
    "    print (\"mean = \",mean)\n",
    "\n",
    "    df_orig['nuclei'].replace({'?': int(mean)}, inplace=True)\n",
    "    df_orig['nuclei'] = pd.to_numeric(df_orig['nuclei'])\n",
    "\n",
    "# just check to make sure that worked ... if it did, then len(df) = 699, and the first print\n",
    "# statement should be empty.\n",
    "\n",
    "print(df_orig[df_orig['nuclei'] == '?'])\n",
    "print (len(df_orig))"
   ]
  },
  {
   "cell_type": "code",
   "execution_count": 11,
   "metadata": {},
   "outputs": [],
   "source": [
    "# Third attempt:  we have replaced the missing data with the mode\n",
    "#\n",
    "# Result:  we get 78.0% correct.  So, the same results as just eliminating the column entirely.\n"
   ]
  },
  {
   "cell_type": "code",
   "execution_count": 12,
   "metadata": {},
   "outputs": [
    {
     "name": "stdout",
     "output_type": "stream",
     "text": [
      "[ 0  0  0  0 -2  0  0  0  0  0  0  0  0  0  0  0  0  0  0  0 -2  0  0 -2\n",
      "  0  0  0  0  0  0  0  0  0  0  0  0  0  0  0 -2  0  0 -2 -2 -2 -2  0  0\n",
      " -2  0  0  0  0  0  0 -2 -2  0  0  0 -2  0 -2  0 -2 -2 -2  0 -2  0  0  0\n",
      "  0  0  0  0  0 -2 -2 -2  0  0 -2  0 -2 -2 -2  0  0  0  0  0  0  0  0  0\n",
      "  0  0  0  0 -2  0  0  0  0  0  0 -2  0  0 -2  0  0  0  0  0  0  0  0  0\n",
      "  0  0 -2  0  0  0  0  0  0  0  0  0 -2  0  0  0  0  0  0  0  0  0 -2 -2\n",
      " -2  0  0  0  0  0  0  0  0  0 -2 -2  0  0  0  0  0  0  0  0  0 -2  0  0\n",
      "  0  0 -2 -2 -2]\n",
      "\n",
      "correct = 78.0 percent\n"
     ]
    },
    {
     "name": "stderr",
     "output_type": "stream",
     "text": [
      "/usr/local/lib64/python3.6/site-packages/sklearn/svm/base.py:193: FutureWarning: The default value of gamma will change from 'auto' to 'scale' in version 0.22 to account better for unscaled features. Set gamma explicitly to 'auto' or 'scale' to avoid this warning.\n",
      "  \"avoid this warning.\", FutureWarning)\n"
     ]
    }
   ],
   "source": [
    "from sklearn import svm\n",
    "\n",
    "split = 525\n",
    "\n",
    "y = df_orig['class'].to_numpy()\n",
    "X = df_orig[['id', 'thickness','size_unif','shape_unif','adhesion','cell_size','nuclei','chromatin','nucleoli','mitoses']].to_numpy()\n",
    "\n",
    "y_train = y[0:split]\n",
    "y_test = y[split+1:]\n",
    "\n",
    "X_train = X[0:split]\n",
    "X_test = X[split+1:]\n",
    "\n",
    "clf = svm.SVC()\n",
    "clf.fit(X_train, y_train)\n",
    "\n",
    "ypred = clf.predict(X_test)\n",
    "print(ypred-y_test)\n",
    "diff = ypred-y_test\n",
    "\n",
    "sum = 0\n",
    "den = 0\n",
    "\n",
    "for elem in diff:\n",
    "    if elem==0:\n",
    "        sum += 1\n",
    "    den +=1\n",
    "    \n",
    "print()\n",
    "print (\"correct = %0.1f percent\"  % (100.0*sum/den))"
   ]
  },
  {
   "cell_type": "code",
   "execution_count": 13,
   "metadata": {},
   "outputs": [],
   "source": [
    "# Fourth attempt:  replace the missing data with a 'regression' analysis result.  We will use the data\n",
    "# with missing rows removed, and then predict what the values should be for the nuclei column, using\n",
    "# a SWM fit based on the other 9 columns.\n",
    "#\n",
    "# Results:  We find that when we use the 683 rows with good data to predict the values of nuclei for\n",
    "# the missing rows, the SVM predicts that nuclei=1 for all 16 of these rows.  This is the exact same\n",
    "# result as we had for imputing with the mode.  So, there is no difference between imputing with mode\n",
    "# and imputing with regression, for this data set."
   ]
  },
  {
   "cell_type": "code",
   "execution_count": 14,
   "metadata": {},
   "outputs": [
    {
     "name": "stdout",
     "output_type": "stream",
     "text": [
      "<class 'pandas.core.frame.DataFrame'>\n",
      "Int64Index: 683 entries, 0 to 698\n",
      "Data columns (total 11 columns):\n",
      " #   Column      Non-Null Count  Dtype\n",
      "---  ------      --------------  -----\n",
      " 0   id          683 non-null    int64\n",
      " 1   thickness   683 non-null    int64\n",
      " 2   size_unif   683 non-null    int64\n",
      " 3   shape_unif  683 non-null    int64\n",
      " 4   adhesion    683 non-null    int64\n",
      " 5   cell_size   683 non-null    int64\n",
      " 6   nuclei      683 non-null    int64\n",
      " 7   chromatin   683 non-null    int64\n",
      " 8   nucleoli    683 non-null    int64\n",
      " 9   mitoses     683 non-null    int64\n",
      " 10  class       683 non-null    int64\n",
      "dtypes: int64(11)\n",
      "memory usage: 64.0 KB\n",
      "<class 'pandas.core.frame.DataFrame'>\n",
      "Int64Index: 16 entries, 23 to 617\n",
      "Data columns (total 11 columns):\n",
      " #   Column      Non-Null Count  Dtype \n",
      "---  ------      --------------  ----- \n",
      " 0   id          16 non-null     int64 \n",
      " 1   thickness   16 non-null     int64 \n",
      " 2   size_unif   16 non-null     int64 \n",
      " 3   shape_unif  16 non-null     int64 \n",
      " 4   adhesion    16 non-null     int64 \n",
      " 5   cell_size   16 non-null     int64 \n",
      " 6   nuclei      16 non-null     object\n",
      " 7   chromatin   16 non-null     int64 \n",
      " 8   nucleoli    16 non-null     int64 \n",
      " 9   mitoses     16 non-null     int64 \n",
      " 10  class       16 non-null     int64 \n",
      "dtypes: int64(10), object(1)\n",
      "memory usage: 1.5+ KB\n"
     ]
    },
    {
     "name": "stderr",
     "output_type": "stream",
     "text": [
      "/usr/lib/python3.6/site-packages/ipykernel_launcher.py:3: SettingWithCopyWarning: \n",
      "A value is trying to be set on a copy of a slice from a DataFrame.\n",
      "Try using .loc[row_indexer,col_indexer] = value instead\n",
      "\n",
      "See the caveats in the documentation: https://pandas.pydata.org/pandas-docs/stable/user_guide/indexing.html#returning-a-view-versus-a-copy\n",
      "  This is separate from the ipykernel package so we can avoid doing imports until\n"
     ]
    }
   ],
   "source": [
    "# Should have 683 entries in df_drop_rows\n",
    "df_drop_rows = df_orig2[df_orig2['nuclei'] != '?']\n",
    "df_drop_rows['nuclei'] = pd.to_numeric(df_drop_rows['nuclei'])\n",
    "df_drop_rows.info()\n",
    "\n",
    "# Should have 16 entries in df_missing_rows\n",
    "df_missing_rows = df_orig2[df_orig2['nuclei'] == '?']\n",
    "df_missing_rows.info()"
   ]
  },
  {
   "cell_type": "code",
   "execution_count": 15,
   "metadata": {},
   "outputs": [
    {
     "name": "stdout",
     "output_type": "stream",
     "text": [
      "[1 1 1 1 1 1 1 1 1 1 1 1 1 1 1 1]\n"
     ]
    },
    {
     "name": "stderr",
     "output_type": "stream",
     "text": [
      "/usr/local/lib64/python3.6/site-packages/sklearn/svm/base.py:193: FutureWarning: The default value of gamma will change from 'auto' to 'scale' in version 0.22 to account better for unscaled features. Set gamma explicitly to 'auto' or 'scale' to avoid this warning.\n",
      "  \"avoid this warning.\", FutureWarning)\n"
     ]
    }
   ],
   "source": [
    "from sklearn import svm\n",
    "\n",
    "split = 525\n",
    "\n",
    "# First, fit nuclei with the other 9 columns, using df_drop_rows as the source\n",
    "y = df_drop_rows['nuclei'].to_numpy()\n",
    "X = df_drop_rows[['id', 'thickness','size_unif','shape_unif','adhesion','cell_size','chromatin','nucleoli','mitoses']].to_numpy()\n",
    "\n",
    "clf = svm.SVC()\n",
    "clf.fit(X, y)\n",
    "\n",
    "# Next, prefict the values of nuclei for the missing rows.\n",
    "X_test = df_missing_rows[['id', 'thickness','size_unif','shape_unif','adhesion','cell_size','chromatin','nucleoli','mitoses']].to_numpy()\n",
    "\n",
    "ypred = clf.predict(X_test)\n",
    "\n",
    "print (ypred)"
   ]
  },
  {
   "cell_type": "code",
   "execution_count": 16,
   "metadata": {},
   "outputs": [
    {
     "name": "stdout",
     "output_type": "stream",
     "text": [
      "<class 'pandas.core.frame.DataFrame'>\n",
      "Int64Index: 699 entries, 23 to 698\n",
      "Data columns (total 11 columns):\n",
      " #   Column      Non-Null Count  Dtype\n",
      "---  ------      --------------  -----\n",
      " 0   id          699 non-null    int64\n",
      " 1   thickness   699 non-null    int64\n",
      " 2   size_unif   699 non-null    int64\n",
      " 3   shape_unif  699 non-null    int64\n",
      " 4   adhesion    699 non-null    int64\n",
      " 5   cell_size   699 non-null    int64\n",
      " 6   nuclei      699 non-null    int64\n",
      " 7   chromatin   699 non-null    int64\n",
      " 8   nucleoli    699 non-null    int64\n",
      " 9   mitoses     699 non-null    int64\n",
      " 10  class       699 non-null    int64\n",
      "dtypes: int64(11)\n",
      "memory usage: 65.5 KB\n"
     ]
    },
    {
     "name": "stderr",
     "output_type": "stream",
     "text": [
      "/usr/lib/python3.6/site-packages/ipykernel_launcher.py:10: SettingWithCopyWarning: \n",
      "A value is trying to be set on a copy of a slice from a DataFrame.\n",
      "Try using .loc[row_indexer,col_indexer] = value instead\n",
      "\n",
      "See the caveats in the documentation: https://pandas.pydata.org/pandas-docs/stable/user_guide/indexing.html#returning-a-view-versus-a-copy\n",
      "  # Remove the CWD from sys.path while we load stuff.\n"
     ]
    }
   ],
   "source": [
    "# There is really no need to do this analysis, but for completeness, we will now construct a full 699 entry\n",
    "# dataframe which includes this new prediction, and then do an SVM fit to this new dataframe.\n",
    "#\n",
    "# To be clear, the ORDER of this new concatenated dataframe is not the same as the original ... I have just\n",
    "# inserted the new replaced rows into the dataframe that had them removed at the beginning, to force them\n",
    "# to be included in the training data.  So, when we split into training and\n",
    "# test data, we might exactly the same mix. But, it seems like it does not make any difference, as we still\n",
    "# get 78.0% correct.\n",
    "\n",
    "df_missing_rows['nuclei'] = ypred\n",
    "\n",
    "frames = [df_missing_rows, df_drop_rows]\n",
    "\n",
    "df_SVM_regression = pd.concat(frames)\n",
    "df_SVM_regression.info()"
   ]
  },
  {
   "cell_type": "code",
   "execution_count": 17,
   "metadata": {},
   "outputs": [
    {
     "name": "stdout",
     "output_type": "stream",
     "text": [
      "[ 0  0  0  0  0 -2  0  0  0  0  0  0  0  0  0  0  0  0  0  0  0 -2  0  0\n",
      " -2  0  0  0  0  0  0  0  0  0  0  0  0  0  0  0 -2  0  0 -2 -2 -2 -2  0\n",
      "  0 -2  0  0  0  0  0  0 -2 -2  0  0  0 -2  0 -2  0 -2 -2 -2  0 -2  0  0\n",
      "  0  0  0  0  0  0 -2 -2 -2  0  0 -2  0 -2 -2 -2  0  0  0  0  0  0  0  0\n",
      "  0  0  0  0 -2  0  0  0  0  0  0 -2  0  0 -2  0  0  0  0  0  0  0  0  0\n",
      "  0  0 -2  0  0  0  0  0  0  0  0  0 -2  0  0  0  0  0  0  0  0  0 -2 -2\n",
      " -2  0  0  0  0  0  0  0  0  0 -2 -2  0  0  0  0  0  0  0  0  0 -2  0  0\n",
      "  0  0 -2 -2 -2]\n",
      "\n",
      "correct = 78.0 percent\n"
     ]
    },
    {
     "name": "stderr",
     "output_type": "stream",
     "text": [
      "/usr/local/lib64/python3.6/site-packages/sklearn/svm/base.py:193: FutureWarning: The default value of gamma will change from 'auto' to 'scale' in version 0.22 to account better for unscaled features. Set gamma explicitly to 'auto' or 'scale' to avoid this warning.\n",
      "  \"avoid this warning.\", FutureWarning)\n"
     ]
    }
   ],
   "source": [
    "from sklearn import svm\n",
    "\n",
    "split = 525\n",
    "\n",
    "y = df_SVM_regression['class'].to_numpy()\n",
    "X = df_SVM_regression[['id', 'thickness','size_unif','shape_unif','adhesion','cell_size','nuclei','chromatin','nucleoli','mitoses']].to_numpy()\n",
    "\n",
    "y_train = y[0:split]\n",
    "y_test = y[split+1:]\n",
    "\n",
    "X_train = X[0:split]\n",
    "X_test = X[split+1:]\n",
    "\n",
    "clf = svm.SVC()\n",
    "clf.fit(X_train, y_train)\n",
    "\n",
    "ypred = clf.predict(X_test)\n",
    "print(ypred-y_test)\n",
    "diff = ypred-y_test\n",
    "\n",
    "sum = 0\n",
    "den = 0\n",
    "\n",
    "for elem in diff:\n",
    "    if elem==0:\n",
    "        sum += 1\n",
    "    den +=1\n",
    "    \n",
    "print()\n",
    "print (\"correct = %0.1f percent\"  % (100.0*sum/den))"
   ]
  },
  {
   "cell_type": "code",
   "execution_count": 18,
   "metadata": {},
   "outputs": [
    {
     "name": "stdout",
     "output_type": "stream",
     "text": [
      "<class 'pandas.core.frame.DataFrame'>\n",
      "Int64Index: 699 entries, 23 to 698\n",
      "Data columns (total 11 columns):\n",
      " #   Column      Non-Null Count  Dtype\n",
      "---  ------      --------------  -----\n",
      " 0   id          699 non-null    int64\n",
      " 1   thickness   699 non-null    int64\n",
      " 2   size_unif   699 non-null    int64\n",
      " 3   shape_unif  699 non-null    int64\n",
      " 4   adhesion    699 non-null    int64\n",
      " 5   cell_size   699 non-null    int64\n",
      " 6   nuclei      699 non-null    int64\n",
      " 7   chromatin   699 non-null    int64\n",
      " 8   nucleoli    699 non-null    int64\n",
      " 9   mitoses     699 non-null    int64\n",
      " 10  class       699 non-null    int64\n",
      "dtypes: int64(11)\n",
      "memory usage: 65.5 KB\n"
     ]
    },
    {
     "name": "stderr",
     "output_type": "stream",
     "text": [
      "/usr/lib/python3.6/site-packages/ipykernel_launcher.py:23: SettingWithCopyWarning: \n",
      "A value is trying to be set on a copy of a slice from a DataFrame.\n",
      "Try using .loc[row_indexer,col_indexer] = value instead\n",
      "\n",
      "See the caveats in the documentation: https://pandas.pydata.org/pandas-docs/stable/user_guide/indexing.html#returning-a-view-versus-a-copy\n"
     ]
    }
   ],
   "source": [
    "# Fifth attempt:  regression + perturbation\n",
    "#\n",
    "# We have 16 rows with missing data.  Our first imputation strategy was to replace the nuclei column with the\n",
    "# mode, and the second imputation strategy was to replace by regresssion, which as we saw made no difference\n",
    "# because the regression values were the same as the mode.\n",
    "#\n",
    "# Now, finally, we can try replacing with different values other than just the mode/regression values of 1 for\n",
    "# all 16 rows.\n",
    "#\n",
    "# Looking at the distribution of nuclei values in the distribution plot above, we see that some of the time,\n",
    "# maybe it should be a 9 rather than a 1.  Let's randomly choose 5 values to set to 9, out of the sixteen.\n",
    "# since we are not using the other column values to base this decision upon, we really can choose any of the 16\n",
    "# to set to 9.\n",
    "#\n",
    "# Result:  we still get 78.0%\n",
    "#\n",
    "# I think that really the main conclusion to draw from all of this is that the value of nuclei just does not\n",
    "# matter that much in this data.  We saw that when above, we just removed the entire column and did not even\n",
    "# consider it, and got 78.0%!!!\n",
    "\n",
    "ypred = np.array([9,9,9,9,9,1,1,1,1,1,1,1,1,1,1,1])\n",
    "\n",
    "df_missing_rows['nuclei'] = ypred\n",
    "\n",
    "frames = [df_missing_rows,df_drop_rows]\n",
    "\n",
    "df_SVM_regression_perturbation = pd.concat(frames)\n",
    "df_SVM_regression_perturbation.info()"
   ]
  },
  {
   "cell_type": "code",
   "execution_count": 19,
   "metadata": {},
   "outputs": [
    {
     "name": "stdout",
     "output_type": "stream",
     "text": [
      "[ 0  0  0  0  0 -2  0  0  0  0  0  0  0  0  0  0  0  0  0  0  0 -2  0  0\n",
      " -2  0  0  0  0  0  0  0  0  0  0  0  0  0  0  0 -2  0  0 -2 -2 -2 -2  0\n",
      "  0 -2  0  0  0  0  0  0 -2 -2  0  0  0 -2  0 -2  0 -2 -2 -2  0 -2  0  0\n",
      "  0  0  0  0  0  0 -2 -2 -2  0  0 -2  0 -2 -2 -2  0  0  0  0  0  0  0  0\n",
      "  0  0  0  0 -2  0  0  0  0  0  0 -2  0  0 -2  0  0  0  0  0  0  0  0  0\n",
      "  0  0 -2  0  0  0  0  0  0  0  0  0 -2  0  0  0  0  0  0  0  0  0 -2 -2\n",
      " -2  0  0  0  0  0  0  0  0  0 -2 -2  0  0  0  0  0  0  0  0  0 -2  0  0\n",
      "  0  0 -2 -2 -2]\n",
      "\n",
      "correct = 78.0 percent\n"
     ]
    },
    {
     "name": "stderr",
     "output_type": "stream",
     "text": [
      "/usr/local/lib64/python3.6/site-packages/sklearn/svm/base.py:193: FutureWarning: The default value of gamma will change from 'auto' to 'scale' in version 0.22 to account better for unscaled features. Set gamma explicitly to 'auto' or 'scale' to avoid this warning.\n",
      "  \"avoid this warning.\", FutureWarning)\n"
     ]
    }
   ],
   "source": [
    "from sklearn import svm\n",
    "\n",
    "split = 525\n",
    "\n",
    "y = df_SVM_regression_perturbation['class'].to_numpy()\n",
    "X = df_SVM_regression_perturbation[['id', 'thickness','size_unif','shape_unif','adhesion','cell_size','nuclei','chromatin','nucleoli','mitoses']].to_numpy()\n",
    "\n",
    "y_train = y[0:split]\n",
    "y_test = y[split+1:]\n",
    "\n",
    "X_train = X[0:split]\n",
    "X_test = X[split+1:]\n",
    "\n",
    "clf = svm.SVC()\n",
    "clf.fit(X_train, y_train)\n",
    "\n",
    "ypred = clf.predict(X_test)\n",
    "print(ypred-y_test)\n",
    "diff = ypred-y_test\n",
    "\n",
    "sum = 0\n",
    "den = 0\n",
    "\n",
    "for elem in diff:\n",
    "    if elem==0:\n",
    "        sum += 1\n",
    "    den +=1\n",
    "    \n",
    "print()\n",
    "print (\"correct = %0.1f percent\"  % (100.0*sum/den))"
   ]
  },
  {
   "cell_type": "code",
   "execution_count": null,
   "metadata": {},
   "outputs": [],
   "source": []
  }
 ],
 "metadata": {
  "kernelspec": {
   "display_name": "Python 3",
   "language": "python",
   "name": "python3"
  },
  "language_info": {
   "codemirror_mode": {
    "name": "ipython",
    "version": 3
   },
   "file_extension": ".py",
   "mimetype": "text/x-python",
   "name": "python",
   "nbconvert_exporter": "python",
   "pygments_lexer": "ipython3",
   "version": "3.6.8"
  }
 },
 "nbformat": 4,
 "nbformat_minor": 4
}
